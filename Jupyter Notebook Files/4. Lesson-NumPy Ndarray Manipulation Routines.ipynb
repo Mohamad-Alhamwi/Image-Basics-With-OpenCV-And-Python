{
 "cells": [
  {
   "cell_type": "markdown",
   "metadata": {},
   "source": [
    "### 1. 6) NumPy Ndarray Manipulation Routines."
   ]
  },
  {
   "cell_type": "markdown",
   "metadata": {},
   "source": [
    "1) **reshape().**"
   ]
  },
  {
   "cell_type": "markdown",
   "metadata": {},
   "source": [
    "Returns an array containing the same data with a new shape."
   ]
  },
  {
   "cell_type": "code",
   "execution_count": 1,
   "metadata": {},
   "outputs": [
    {
     "name": "stdout",
     "output_type": "stream",
     "text": [
      "1----------------\n",
      "\n",
      "[0 1 2 3 4 5]\n",
      "\n",
      "---------------\n",
      "\n",
      "2----------------\n",
      "\n",
      "[[0 1]\n",
      " [2 3]\n",
      " [4 5]]\n",
      "\n",
      "---------------\n",
      "\n"
     ]
    }
   ],
   "source": [
    "import numpy as np\n",
    "\n",
    "print('1----------------\\n')\n",
    "x = np.arange(6)\n",
    "print(x)\n",
    "print('\\n---------------\\n')\n",
    "\n",
    "print('2----------------\\n')\n",
    "y = x.reshape((3, 2))\n",
    "print(y)\n",
    "print('\\n---------------\\n')"
   ]
  },
  {
   "cell_type": "markdown",
   "metadata": {},
   "source": [
    "There is also an equivalent function to this ----->"
   ]
  },
  {
   "cell_type": "code",
   "execution_count": 2,
   "metadata": {},
   "outputs": [
    {
     "name": "stdout",
     "output_type": "stream",
     "text": [
      "1----------------\n",
      "\n",
      "[[0 1 3]\n",
      " [4 5 6]]\n",
      "\n",
      "---------------\n",
      "\n",
      "2----------------\n",
      "\n",
      "[0 1 3 4 5 6]\n",
      "\n",
      "---------------\n",
      "\n"
     ]
    }
   ],
   "source": [
    "print('1----------------\\n')\n",
    "x = np.array([[0, 1, 3], [4, 5, 6]])\n",
    "print(x)\n",
    "print('\\n---------------\\n')\n",
    "\n",
    "print('2----------------\\n')\n",
    "y = np.reshape(x, 6)\n",
    "print(y)\n",
    "print('\\n---------------\\n')"
   ]
  },
  {
   "cell_type": "markdown",
   "metadata": {},
   "source": [
    "2) **ravel().**"
   ]
  },
  {
   "cell_type": "markdown",
   "metadata": {},
   "source": [
    "Returns a contiguous flattened array."
   ]
  },
  {
   "cell_type": "code",
   "execution_count": 3,
   "metadata": {},
   "outputs": [
    {
     "name": "stdout",
     "output_type": "stream",
     "text": [
      "1----------------\n",
      "\n",
      "[[0 1 3]\n",
      " [4 5 6]]\n",
      "\n",
      "---------------\n",
      "\n",
      "2----------------\n",
      "\n",
      "[0 1 3 4 5 6]\n",
      "\n",
      "---------------\n",
      "\n"
     ]
    }
   ],
   "source": [
    "print('1----------------\\n')\n",
    "x = np.array([[0, 1, 3], [4, 5, 6]])\n",
    "print(x)\n",
    "print('\\n---------------\\n')\n",
    "\n",
    "print('2----------------\\n')\n",
    "y = np.ravel(x)\n",
    "print(y)\n",
    "print('\\n---------------\\n')"
   ]
  },
  {
   "cell_type": "markdown",
   "metadata": {},
   "source": [
    "3) **flatten().**"
   ]
  },
  {
   "cell_type": "markdown",
   "metadata": {},
   "source": [
    "Return a copy of the array collapsed into one dimension."
   ]
  },
  {
   "cell_type": "code",
   "execution_count": 4,
   "metadata": {},
   "outputs": [
    {
     "name": "stdout",
     "output_type": "stream",
     "text": [
      "1----------------\n",
      "\n",
      "[[0 1 3]\n",
      " [4 5 6]]\n",
      "\n",
      "---------------\n",
      "\n",
      "2----------------\n",
      "\n",
      "[0 1 3 4 5 6]\n",
      "\n",
      "---------------\n",
      "\n"
     ]
    }
   ],
   "source": [
    "print('1----------------\\n')\n",
    "x = np.array([[0, 1, 3], [4, 5, 6]])\n",
    "print(x)\n",
    "print('\\n---------------\\n')\n",
    "\n",
    "print('2----------------\\n')\n",
    "# By defualt in row order.\n",
    "y = x.flatten()\n",
    "print(y)\n",
    "print('\\n---------------\\n')"
   ]
  },
  {
   "cell_type": "markdown",
   "metadata": {},
   "source": [
    "We can also change the way the array flattend to by passing an optional parameter."
   ]
  },
  {
   "cell_type": "markdown",
   "metadata": {},
   "source": [
    "**‘C’** means to flatten in row-major (C-style) order."
   ]
  },
  {
   "cell_type": "code",
   "execution_count": 5,
   "metadata": {},
   "outputs": [
    {
     "name": "stdout",
     "output_type": "stream",
     "text": [
      "1----------------\n",
      "\n",
      "[[0 1 3]\n",
      " [4 5 6]]\n",
      "\n",
      "-----------------\n",
      "\n",
      "2----------------\n",
      "\n",
      "[0 1 3 4 5 6]\n",
      "\n",
      "-----------------\n",
      "\n"
     ]
    }
   ],
   "source": [
    "print('1----------------\\n')\n",
    "x = np.array([[0, 1, 3], [4, 5, 6]])\n",
    "print(x)\n",
    "print('\\n-----------------\\n')\n",
    "\n",
    "print('2----------------\\n')\n",
    "y = x.flatten('C')\n",
    "print(y)\n",
    "print('\\n-----------------\\n')"
   ]
  },
  {
   "cell_type": "markdown",
   "metadata": {},
   "source": [
    "**‘F’** means to flatten in column-major (Fortran- style) order."
   ]
  },
  {
   "cell_type": "code",
   "execution_count": 6,
   "metadata": {},
   "outputs": [
    {
     "name": "stdout",
     "output_type": "stream",
     "text": [
      "1----------------\n",
      "\n",
      "[[0 1 3]\n",
      " [4 5 6]]\n",
      "\n",
      "-----------------\n",
      "\n",
      "2----------------\n",
      "\n",
      "[0 4 1 5 3 6]\n",
      "\n",
      "-----------------\n",
      "\n"
     ]
    }
   ],
   "source": [
    "print('1----------------\\n')\n",
    "x = np.array([[0, 1, 3], [4, 5, 6]])\n",
    "print(x)\n",
    "print('\\n-----------------\\n')\n",
    "\n",
    "print('2----------------\\n')\n",
    "y = x.flatten('F')\n",
    "print(y)\n",
    "print('\\n-----------------\\n')"
   ]
  },
  {
   "cell_type": "markdown",
   "metadata": {},
   "source": [
    "4) **stack().**"
   ]
  },
  {
   "cell_type": "markdown",
   "metadata": {},
   "source": [
    "Joins a sequence of arrays along a new axis."
   ]
  },
  {
   "cell_type": "code",
   "execution_count": 7,
   "metadata": {},
   "outputs": [
    {
     "name": "stdout",
     "output_type": "stream",
     "text": [
      "1----------------\n",
      "\n",
      "[1 2 3]\n",
      "\n",
      "-----------------\n",
      "\n",
      "2----------------\n",
      "\n",
      "[4 5 6]\n",
      "\n",
      "-----------------\n",
      "\n",
      "3----------------\n",
      "\n",
      "[[1 2 3]\n",
      " [4 5 6]]\n",
      "\n",
      "-----------------\n",
      "\n"
     ]
    }
   ],
   "source": [
    "# Joining Multiple arrays.\n",
    "x = np.array([1, 2, 3], dtype = np.uint8)\n",
    "y = np.array([4, 5, 6], dtype = np.uint8)\n",
    "\n",
    "print('1----------------\\n')\n",
    "print(x)\n",
    "print('\\n-----------------\\n')\n",
    "\n",
    "print('2----------------\\n')\n",
    "print(y)\n",
    "print('\\n-----------------\\n')\n",
    "\n",
    "print('3----------------\\n')\n",
    "z = np.stack((x, y))\n",
    "print(z)\n",
    "print('\\n-----------------\\n')"
   ]
  },
  {
   "cell_type": "markdown",
   "metadata": {},
   "source": [
    "The axis parameter specifies the index of the new axis in the dimensions of the result. For example, if axis=0 it will be the first dimension and if axis=-1 it will be the last dimension."
   ]
  },
  {
   "cell_type": "code",
   "execution_count": 8,
   "metadata": {},
   "outputs": [
    {
     "name": "stdout",
     "output_type": "stream",
     "text": [
      "1----------------\n",
      "\n",
      "[1 2 3]\n",
      "\n",
      "-----------------\n",
      "\n",
      "2----------------\n",
      "\n",
      "[4 5 6]\n",
      "\n",
      "-----------------\n",
      "\n",
      "3----------------\n",
      "\n",
      "[[1 4]\n",
      " [2 5]\n",
      " [3 6]]\n",
      "\n",
      "-----------------\n",
      "\n"
     ]
    }
   ],
   "source": [
    "print('1----------------\\n')\n",
    "print(x)\n",
    "print('\\n-----------------\\n')\n",
    "\n",
    "print('2----------------\\n')\n",
    "print(y)\n",
    "print('\\n-----------------\\n')\n",
    "\n",
    "print('3----------------\\n')\n",
    "z = np.stack((x, y), axis = -1)\n",
    "print(z)\n",
    "print('\\n-----------------\\n')"
   ]
  },
  {
   "cell_type": "code",
   "execution_count": 9,
   "metadata": {},
   "outputs": [
    {
     "name": "stdout",
     "output_type": "stream",
     "text": [
      "1----------------\n",
      "\n",
      "[1 2 3]\n",
      "\n",
      "-----------------\n",
      "\n",
      "2----------------\n",
      "\n",
      "[4 5 6]\n",
      "\n",
      "-----------------\n",
      "\n",
      "3----------------\n",
      "\n",
      "[[1 4]\n",
      " [2 5]\n",
      " [3 6]]\n",
      "\n",
      "-----------------\n",
      "\n"
     ]
    }
   ],
   "source": [
    "print('1----------------\\n')\n",
    "print(x)\n",
    "print('\\n-----------------\\n')\n",
    "\n",
    "print('2----------------\\n')\n",
    "print(y)\n",
    "print('\\n-----------------\\n')\n",
    "\n",
    "print('3----------------\\n')\n",
    "z = np.stack((x, y), axis = 1)\n",
    "print(z)\n",
    "print('\\n-----------------\\n')"
   ]
  },
  {
   "cell_type": "markdown",
   "metadata": {},
   "source": [
    "5) **vstack().**"
   ]
  },
  {
   "cell_type": "markdown",
   "metadata": {},
   "source": [
    "Stacks arrays in sequence vertically (row wise)."
   ]
  },
  {
   "cell_type": "code",
   "execution_count": 12,
   "metadata": {},
   "outputs": [
    {
     "name": "stdout",
     "output_type": "stream",
     "text": [
      "1----------------\n",
      "\n",
      "[1 2 3]\n",
      "\n",
      "-----------------\n",
      "\n",
      "2----------------\n",
      "\n",
      "[4 5 6]\n",
      "\n",
      "-----------------\n",
      "\n",
      "3----------------\n",
      "\n",
      "[[1 2 3]\n",
      " [4 5 6]]\n",
      "\n",
      "The shape of the array:  (2, 3)\n",
      "\n",
      "-----------------\n",
      "\n"
     ]
    }
   ],
   "source": [
    "print('1----------------\\n')\n",
    "print(x)\n",
    "print('\\n-----------------\\n')\n",
    "\n",
    "print('2----------------\\n')\n",
    "print(y)\n",
    "print('\\n-----------------\\n')\n",
    "\n",
    "print('3----------------\\n')\n",
    "z = np.vstack((x, y))\n",
    "print(z)\n",
    "print('\\nThe shape of the array: ', z.shape)\n",
    "print('\\n-----------------\\n')"
   ]
  },
  {
   "cell_type": "markdown",
   "metadata": {},
   "source": [
    "6) **hstack().**"
   ]
  },
  {
   "cell_type": "markdown",
   "metadata": {},
   "source": [
    "Stacks arrays in sequence horizontally (column wise)."
   ]
  },
  {
   "cell_type": "code",
   "execution_count": 13,
   "metadata": {},
   "outputs": [
    {
     "name": "stdout",
     "output_type": "stream",
     "text": [
      "1----------------\n",
      "\n",
      "[1 2 3]\n",
      "\n",
      "-----------------\n",
      "\n",
      "2----------------\n",
      "\n",
      "[4 5 6]\n",
      "\n",
      "-----------------\n",
      "\n",
      "3----------------\n",
      "\n",
      "[1 2 3 4 5 6]\n",
      "\n",
      "The shape of the array:  (6,)\n",
      "\n",
      "-----------------\n",
      "\n"
     ]
    }
   ],
   "source": [
    "print('1----------------\\n')\n",
    "print(x)\n",
    "print('\\n-----------------\\n')\n",
    "\n",
    "print('2----------------\\n')\n",
    "print(y)\n",
    "print('\\n-----------------\\n')\n",
    "\n",
    "print('3----------------\\n')\n",
    "z = np.hstack((x, y))\n",
    "print(z)\n",
    "print('\\nThe shape of the array: ', z.shape)\n",
    "print('\\n-----------------\\n')"
   ]
  },
  {
   "cell_type": "markdown",
   "metadata": {},
   "source": [
    "7) **dstack().**"
   ]
  },
  {
   "cell_type": "markdown",
   "metadata": {},
   "source": [
    "Stacks arrays in sequence depth wise (along third axis)."
   ]
  },
  {
   "cell_type": "code",
   "execution_count": 15,
   "metadata": {},
   "outputs": [
    {
     "name": "stdout",
     "output_type": "stream",
     "text": [
      "1----------------\n",
      "\n",
      "[1 2 3]\n",
      "\n",
      "-----------------\n",
      "\n",
      "2----------------\n",
      "\n",
      "[4 5 6]\n",
      "\n",
      "-----------------\n",
      "\n",
      "3----------------\n",
      "\n",
      "[[[1 4]\n",
      "  [2 5]\n",
      "  [3 6]]]\n",
      "\n",
      "The shape of the array:  (1, 3, 2)\n",
      "\n",
      "-----------------\n",
      "\n"
     ]
    }
   ],
   "source": [
    "print('1----------------\\n')\n",
    "print(x)\n",
    "print('\\n-----------------\\n')\n",
    "\n",
    "print('2----------------\\n')\n",
    "print(y)\n",
    "print('\\n-----------------\\n')\n",
    "\n",
    "print('3----------------\\n')\n",
    "z = np.dstack((x, y))\n",
    "print(z)\n",
    "print('\\nThe shape of the array: ', z.shape)\n",
    "print('\\n-----------------\\n')"
   ]
  },
  {
   "cell_type": "markdown",
   "metadata": {},
   "source": [
    "8) **split().**"
   ]
  },
  {
   "cell_type": "markdown",
   "metadata": {},
   "source": [
    "Splits an array into multiple sub-arrays as views into ary."
   ]
  },
  {
   "cell_type": "code",
   "execution_count": 17,
   "metadata": {},
   "outputs": [
    {
     "name": "stdout",
     "output_type": "stream",
     "text": [
      "1----------------\n",
      "\n",
      "[0 1 2 3 4 5 6 7 8]\n",
      "\n",
      "-----------------\n",
      "\n",
      "2----------------\n",
      "\n",
      "[0 1 2]\n",
      "\n",
      "-----------------\n",
      "\n",
      "3----------------\n",
      "\n",
      "[3 4 5]\n",
      "\n",
      "-----------------\n",
      "\n",
      "3----------------\n",
      "\n",
      "[6 7 8]\n",
      "\n",
      "-----------------\n",
      "\n"
     ]
    }
   ],
   "source": [
    "x = np.arange(9)\n",
    "\n",
    "print('1----------------\\n')\n",
    "print(x)\n",
    "print('\\n-----------------\\n')\n",
    "\n",
    "a, b, c = np.split(x, 3)\n",
    "print('2----------------\\n')\n",
    "print(a)\n",
    "print('\\n-----------------\\n')\n",
    "\n",
    "print('3----------------\\n')\n",
    "print(b)\n",
    "print('\\n-----------------\\n')\n",
    "\n",
    "print('3----------------\\n')\n",
    "print(c)\n",
    "print('\\n-----------------\\n')"
   ]
  },
  {
   "cell_type": "markdown",
   "metadata": {},
   "source": [
    "9) **dsplit().**"
   ]
  },
  {
   "cell_type": "markdown",
   "metadata": {},
   "source": [
    "Splits array into multiple sub-arrays along the 3rd axis (depth)."
   ]
  },
  {
   "cell_type": "code",
   "execution_count": 31,
   "metadata": {},
   "outputs": [
    {
     "name": "stdout",
     "output_type": "stream",
     "text": [
      "1----------------\n",
      "\n",
      "[[[ 1  2]\n",
      "  [ 4  5]]\n",
      "\n",
      " [[10 11]\n",
      "  [13 14]]]\n",
      "\n",
      "The shape of the array:  (2, 2, 2)\n",
      "\n",
      "-----------------\n",
      "\n",
      "2----------------\n",
      "\n",
      "[[[ 1]\n",
      "  [ 4]]\n",
      "\n",
      " [[10]\n",
      "  [13]]]\n",
      "\n",
      "The shape of the array:  (2, 2, 1)\n",
      "\n",
      "-----------------\n",
      "\n",
      "3----------------\n",
      "\n",
      "[[[ 2]\n",
      "  [ 5]]\n",
      "\n",
      " [[11]\n",
      "  [14]]]\n",
      "\n",
      "The shape of the array:  (2, 2, 1)\n",
      "\n",
      "-----------------\n",
      "\n"
     ]
    }
   ],
   "source": [
    "x =  np.array([[[1, 2], [4, 5]],\n",
    "               [[10, 11], [13, 14]]])\n",
    "\n",
    "print('1----------------\\n')\n",
    "print(x)\n",
    "print('\\nThe shape of the array: ', x.shape)\n",
    "print('\\n-----------------\\n')\n",
    "\n",
    "y, z = np.dsplit(x, 2)\n",
    "print('2----------------\\n')\n",
    "print(y)\n",
    "print('\\nThe shape of the array: ', y.shape)\n",
    "print('\\n-----------------\\n')\n",
    "\n",
    "print('3----------------\\n')\n",
    "print(z)\n",
    "print('\\nThe shape of the array: ', z.shape)\n",
    "print('\\n-----------------\\n')"
   ]
  },
  {
   "cell_type": "markdown",
   "metadata": {},
   "source": [
    "10) **hsplit().**"
   ]
  },
  {
   "cell_type": "markdown",
   "metadata": {},
   "source": [
    "Splits an array into multiple sub-arrays horizontally (column-wise)."
   ]
  },
  {
   "cell_type": "code",
   "execution_count": 33,
   "metadata": {},
   "outputs": [
    {
     "name": "stdout",
     "output_type": "stream",
     "text": [
      "1----------------\n",
      "\n",
      "[[[ 1  2]\n",
      "  [ 4  5]]\n",
      "\n",
      " [[10 11]\n",
      "  [13 14]]]\n",
      "\n",
      "The shape of the array:  (2, 2, 2)\n",
      "\n",
      "-----------------\n",
      "\n",
      "2----------------\n",
      "\n",
      "[[[ 1  2]]\n",
      "\n",
      " [[10 11]]]\n",
      "\n",
      "The shape of the array:  (2, 1, 2)\n",
      "\n",
      "-----------------\n",
      "\n",
      "3----------------\n",
      "\n",
      "[[[ 4  5]]\n",
      "\n",
      " [[13 14]]]\n",
      "\n",
      "The shape of the array:  (2, 1, 2)\n",
      "\n",
      "-----------------\n",
      "\n"
     ]
    }
   ],
   "source": [
    "x =  np.array([[[1, 2], [4, 5]],\n",
    "               [[10, 11], [13, 14]]])\n",
    "\n",
    "print('1----------------\\n')\n",
    "print(x)\n",
    "print('\\nThe shape of the array: ', x.shape)\n",
    "print('\\n-----------------\\n')\n",
    "\n",
    "y, z = np.hsplit(x, 2)\n",
    "print('2----------------\\n')\n",
    "print(y)\n",
    "print('\\nThe shape of the array: ', y.shape)\n",
    "print('\\n-----------------\\n')\n",
    "\n",
    "print('3----------------\\n')\n",
    "print(z)\n",
    "print('\\nThe shape of the array: ', z.shape)\n",
    "print('\\n-----------------\\n')"
   ]
  },
  {
   "cell_type": "markdown",
   "metadata": {},
   "source": [
    "11) **vsplit().**"
   ]
  },
  {
   "cell_type": "markdown",
   "metadata": {},
   "source": [
    "Splits an array into multiple sub-arrays vertically (row-wise)."
   ]
  },
  {
   "cell_type": "code",
   "execution_count": 34,
   "metadata": {},
   "outputs": [
    {
     "name": "stdout",
     "output_type": "stream",
     "text": [
      "1----------------\n",
      "\n",
      "[[[ 1  2]\n",
      "  [ 4  5]]\n",
      "\n",
      " [[10 11]\n",
      "  [13 14]]]\n",
      "\n",
      "The shape of the array:  (2, 2, 2)\n",
      "\n",
      "-----------------\n",
      "\n",
      "2----------------\n",
      "\n",
      "[[[1 2]\n",
      "  [4 5]]]\n",
      "\n",
      "The shape of the array:  (1, 2, 2)\n",
      "\n",
      "-----------------\n",
      "\n",
      "3----------------\n",
      "\n",
      "[[[10 11]\n",
      "  [13 14]]]\n",
      "\n",
      "The shape of the array:  (1, 2, 2)\n"
     ]
    }
   ],
   "source": [
    "x =  np.array([[[1, 2], [4, 5]],\n",
    "               [[10, 11], [13, 14]]])\n",
    "\n",
    "print('1----------------\\n')\n",
    "print(x)\n",
    "print('\\nThe shape of the array: ', x.shape)\n",
    "print('\\n-----------------\\n')\n",
    "\n",
    "y, z = np.vsplit(x, 2)\n",
    "print('2----------------\\n')\n",
    "print(y)\n",
    "print('\\nThe shape of the array: ', y.shape)\n",
    "print('\\n-----------------\\n')\n",
    "\n",
    "print('3----------------\\n')\n",
    "print(z)\n",
    "print('\\nThe shape of the array: ', z.shape)"
   ]
  },
  {
   "cell_type": "markdown",
   "metadata": {},
   "source": [
    "12) **flip().**"
   ]
  },
  {
   "cell_type": "markdown",
   "metadata": {},
   "source": [
    "Reverses the order of elements in an array along the given axis."
   ]
  },
  {
   "cell_type": "code",
   "execution_count": 2,
   "metadata": {},
   "outputs": [
    {
     "name": "stdout",
     "output_type": "stream",
     "text": [
      "1----------------\n",
      "\n",
      "[[ 0  1  2  3]\n",
      " [ 4  5  6  7]\n",
      " [ 8  9 10 11]\n",
      " [12 13 14 15]]\n",
      "\n",
      "-----------------\n",
      "\n",
      "2----------------\n",
      "\n",
      "[[ 3  2  1  0]\n",
      " [ 7  6  5  4]\n",
      " [11 10  9  8]\n",
      " [15 14 13 12]]\n",
      "\n",
      "-----------------\n",
      "\n",
      "3----------------\n",
      "\n",
      "[[12 13 14 15]\n",
      " [ 8  9 10 11]\n",
      " [ 4  5  6  7]\n",
      " [ 0  1  2  3]]\n",
      "\n",
      "-----------------\n",
      "\n",
      "4----------------\n",
      "\n",
      "[[ 3  2  1  0]\n",
      " [ 7  6  5  4]\n",
      " [11 10  9  8]\n",
      " [15 14 13 12]]\n",
      "\n",
      "-----------------\n",
      "\n"
     ]
    }
   ],
   "source": [
    "import numpy as np\n",
    "\n",
    "x = np.arange(16).reshape(4, 4)\n",
    "print('1----------------\\n')\n",
    "print(x)\n",
    "print('\\n-----------------\\n')\n",
    "\n",
    "print('2----------------\\n')\n",
    "y = np.flip(x, axis = -1)\n",
    "print(y)\n",
    "print('\\n-----------------\\n')\n",
    "\n",
    "print('3----------------\\n')\n",
    "y = np.flip(x, axis = 0)\n",
    "print(y)\n",
    "print('\\n-----------------\\n')\n",
    "\n",
    "print('4----------------\\n')\n",
    "y = np.flip(x, axis = 1)\n",
    "print(y)\n",
    "print('\\n-----------------\\n')"
   ]
  },
  {
   "cell_type": "markdown",
   "metadata": {},
   "source": [
    "13) **fliplr().**"
   ]
  },
  {
   "cell_type": "markdown",
   "metadata": {},
   "source": [
    "Flips array in the left/right direction (horizontally (axis=1))."
   ]
  },
  {
   "cell_type": "code",
   "execution_count": 5,
   "metadata": {},
   "outputs": [
    {
     "name": "stdout",
     "output_type": "stream",
     "text": [
      "1----------------\n",
      "\n",
      "[[ 0  1  2  3]\n",
      " [ 4  5  6  7]\n",
      " [ 8  9 10 11]\n",
      " [12 13 14 15]]\n",
      "\n",
      "-----------------\n",
      "\n",
      "2----------------\n",
      "\n",
      "[[ 3  2  1  0]\n",
      " [ 7  6  5  4]\n",
      " [11 10  9  8]\n",
      " [15 14 13 12]]\n",
      "\n",
      "-----------------\n",
      "\n"
     ]
    }
   ],
   "source": [
    "print('1----------------\\n')\n",
    "print(x)\n",
    "print('\\n-----------------\\n')\n",
    "\n",
    "print('2----------------\\n')\n",
    "y = np.fliplr(x)\n",
    "print(y)\n",
    "print('\\n-----------------\\n')"
   ]
  },
  {
   "cell_type": "markdown",
   "metadata": {},
   "source": [
    "14) **flipud().**"
   ]
  },
  {
   "cell_type": "markdown",
   "metadata": {},
   "source": [
    "Flips array in the up/down direction (vertically (axis=0))."
   ]
  },
  {
   "cell_type": "code",
   "execution_count": 6,
   "metadata": {},
   "outputs": [
    {
     "name": "stdout",
     "output_type": "stream",
     "text": [
      "1----------------\n",
      "\n",
      "[[ 0  1  2  3]\n",
      " [ 4  5  6  7]\n",
      " [ 8  9 10 11]\n",
      " [12 13 14 15]]\n",
      "\n",
      "-----------------\n",
      "\n",
      "2----------------\n",
      "\n",
      "[[12 13 14 15]\n",
      " [ 8  9 10 11]\n",
      " [ 4  5  6  7]\n",
      " [ 0  1  2  3]]\n",
      "\n",
      "-----------------\n",
      "\n"
     ]
    }
   ],
   "source": [
    "print('1----------------\\n')\n",
    "print(x)\n",
    "print('\\n-----------------\\n')\n",
    "\n",
    "print('2----------------\\n')\n",
    "y = np.flipud(x)\n",
    "print(y)\n",
    "print('\\n-----------------\\n')"
   ]
  },
  {
   "cell_type": "markdown",
   "metadata": {},
   "source": [
    "15) **roll().**"
   ]
  },
  {
   "cell_type": "markdown",
   "metadata": {},
   "source": [
    "Rolls array elements along a given axis."
   ]
  },
  {
   "cell_type": "code",
   "execution_count": 7,
   "metadata": {},
   "outputs": [
    {
     "name": "stdout",
     "output_type": "stream",
     "text": [
      "1----------------\n",
      "\n",
      "[[ 0  1  2  3]\n",
      " [ 4  5  6  7]\n",
      " [ 8  9 10 11]\n",
      " [12 13 14 15]]\n",
      "\n",
      "-----------------\n",
      "\n",
      "2----------------\n",
      "\n",
      "[[ 8  9 10 11]\n",
      " [12 13 14 15]\n",
      " [ 0  1  2  3]\n",
      " [ 4  5  6  7]]\n",
      "\n",
      "-----------------\n",
      "\n"
     ]
    }
   ],
   "source": [
    "print('1----------------\\n')\n",
    "print(x)\n",
    "print('\\n-----------------\\n')\n",
    "\n",
    "print('2----------------\\n')\n",
    "y = np.roll(x, 8)\n",
    "print(y)\n",
    "print('\\n-----------------\\n')"
   ]
  },
  {
   "cell_type": "markdown",
   "metadata": {},
   "source": [
    "16) **rot90().**"
   ]
  },
  {
   "cell_type": "markdown",
   "metadata": {},
   "source": [
    "Rotates an array by 90 degrees in the plane specified by axes."
   ]
  },
  {
   "cell_type": "code",
   "execution_count": 8,
   "metadata": {},
   "outputs": [
    {
     "name": "stdout",
     "output_type": "stream",
     "text": [
      "1----------------\n",
      "\n",
      "[[ 0  1  2  3]\n",
      " [ 4  5  6  7]\n",
      " [ 8  9 10 11]\n",
      " [12 13 14 15]]\n",
      "\n",
      "-----------------\n",
      "\n",
      "2----------------\n",
      "\n",
      "[[ 3  7 11 15]\n",
      " [ 2  6 10 14]\n",
      " [ 1  5  9 13]\n",
      " [ 0  4  8 12]]\n",
      "\n",
      "-----------------\n",
      "\n"
     ]
    }
   ],
   "source": [
    "print('1----------------\\n')\n",
    "print(x)\n",
    "print('\\n-----------------\\n')\n",
    "\n",
    "print('2----------------\\n')\n",
    "y = np.rot90(x)\n",
    "print(y)\n",
    "print('\\n-----------------\\n')"
   ]
  }
 ],
 "metadata": {
  "kernelspec": {
   "display_name": "Python 3",
   "language": "python",
   "name": "python3"
  },
  "language_info": {
   "codemirror_mode": {
    "name": "ipython",
    "version": 3
   },
   "file_extension": ".py",
   "mimetype": "text/x-python",
   "name": "python",
   "nbconvert_exporter": "python",
   "pygments_lexer": "ipython3",
   "version": "3.8.1"
  }
 },
 "nbformat": 4,
 "nbformat_minor": 4
}
