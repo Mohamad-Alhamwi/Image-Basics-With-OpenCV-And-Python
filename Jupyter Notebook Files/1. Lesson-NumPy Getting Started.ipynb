{
 "cells": [
  {
   "cell_type": "markdown",
   "metadata": {},
   "source": [
    "# Python3 And OpenCV."
   ]
  },
  {
   "cell_type": "markdown",
   "metadata": {},
   "source": [
    "## 1) Getting Started with NumPy."
   ]
  },
  {
   "cell_type": "markdown",
   "metadata": {},
   "source": [
    "**NumPy**: Numpy is the core library for scientific computing in Python. It provides a high-performance multidimensional array object, and tools for working with these arrays."
   ]
  },
  {
   "cell_type": "markdown",
   "metadata": {},
   "source": [
    "To import numpy ---->"
   ]
  },
  {
   "cell_type": "code",
   "execution_count": 1,
   "metadata": {},
   "outputs": [],
   "source": [
    "import numpy as np"
   ]
  },
  {
   "cell_type": "markdown",
   "metadata": {},
   "source": [
    "### 1. 1) Arrays."
   ]
  },
  {
   "cell_type": "markdown",
   "metadata": {},
   "source": [
    "A numpy array is a grid of values, all of the same type, and is indexed by a tuple of nonnegative integers. The number of dimensions is the rank of the array; the shape of an array is a tuple of integers giving the size of the array along each dimension."
   ]
  },
  {
   "cell_type": "code",
   "execution_count": 11,
   "metadata": {},
   "outputs": [
    {
     "name": "stdout",
     "output_type": "stream",
     "text": [
      "1-----------\n",
      "\n",
      "<class 'numpy.ndarray'>\n",
      "\n",
      "------------\n",
      "\n",
      "\n",
      "2-----------\n",
      "\n",
      "(3,)\n",
      "\n",
      "------------\n",
      "\n",
      "\n",
      "3-----------\n",
      "\n",
      "1 2 3\n",
      "\n",
      "------------\n",
      "\n",
      "\n",
      "4-----------\n",
      "\n",
      "[5 2 3]\n",
      "\n",
      "------------\n",
      "\n"
     ]
    }
   ],
   "source": [
    "## Creating a simple one dimentional (a rank 1) ndArray\n",
    "x = np.array([1, 2, 3], np.int16)\n",
    "\n",
    "## Printing the type of x.\n",
    "print('1-----------\\n')\n",
    "print(type(x))    \n",
    "print('\\n------------\\n')\n",
    "\n",
    "\n",
    "## Printing the shape of x.\n",
    "print('\\n2-----------\\n')\n",
    "print(x.shape)   \n",
    "print('\\n------------\\n')\n",
    "\n",
    "## Adressing elements.\n",
    "print('\\n3-----------\\n')\n",
    "print(x[0], x[1], x[2])\n",
    "print('\\n------------\\n')\n",
    "\n",
    "\n",
    "# Changing an element of the array.\n",
    "x[0] = 5  \n",
    "print('\\n4-----------\\n')\n",
    "print(x)\n",
    "print('\\n------------\\n')"
   ]
  },
  {
   "cell_type": "code",
   "execution_count": 14,
   "metadata": {},
   "outputs": [
    {
     "name": "stdout",
     "output_type": "stream",
     "text": [
      "1-----------\n",
      "\n",
      "[[1 2 3]\n",
      " [4 5 6]]\n",
      "\n",
      "------------\n",
      "\n",
      "\n",
      "2-----------\n",
      "\n",
      "(2, 3)\n",
      "\n",
      "------------\n",
      "\n",
      "\n",
      "3-----------\n",
      "\n",
      "1 2 3\n",
      "\n",
      "------------\n",
      "\n",
      "\n",
      "4-----------\n",
      "\n",
      "[[5 2 3]\n",
      " [4 5 6]]\n",
      "\n",
      "------------\n",
      "\n"
     ]
    }
   ],
   "source": [
    "## Creating a Two  dimentional (a rank 2) ndArray\n",
    "x = np.array([[1, 2, 3], [4, 5, 6]], np.int16)\n",
    "\n",
    "## Printing x.\n",
    "print('1-----------\\n')\n",
    "print(x)\n",
    "print('\\n------------\\n')\n",
    "\n",
    "## Printing the shape of x.\n",
    "print('\\n2-----------\\n')\n",
    "print(x.shape)   \n",
    "print('\\n------------\\n')\n",
    "\n",
    "## Adressing elements.\n",
    "print('\\n3-----------\\n')\n",
    "print(x[0, 0], x[0, 1], x[0, 2])\n",
    "print('\\n------------\\n')\n",
    "\n",
    "# Changing an element of the array.\n",
    "x[0, 0] = 5  \n",
    "print('\\n4-----------\\n')\n",
    "print(x)\n",
    "print('\\n------------\\n')"
   ]
  },
  {
   "cell_type": "code",
   "execution_count": 15,
   "metadata": {},
   "outputs": [
    {
     "ename": "IndexError",
     "evalue": "index 3 is out of bounds for axis 0 with size 2",
     "output_type": "error",
     "traceback": [
      "\u001b[1;31m---------------------------------------------------------------------\u001b[0m",
      "\u001b[1;31mIndexError\u001b[0m                          Traceback (most recent call last)",
      "\u001b[1;32m<ipython-input-15-a1bcb3dc75d8>\u001b[0m in \u001b[0;36m<module>\u001b[1;34m\u001b[0m\n\u001b[0;32m      1\u001b[0m \u001b[1;31m## Out of bound Exeption.\u001b[0m\u001b[1;33m\u001b[0m\u001b[1;33m\u001b[0m\u001b[1;33m\u001b[0m\u001b[0m\n\u001b[1;32m----> 2\u001b[1;33m \u001b[0mprint\u001b[0m\u001b[1;33m(\u001b[0m\u001b[0mx\u001b[0m\u001b[1;33m[\u001b[0m\u001b[1;36m3\u001b[0m\u001b[1;33m]\u001b[0m\u001b[1;33m[\u001b[0m\u001b[1;36m2\u001b[0m\u001b[1;33m]\u001b[0m\u001b[1;33m)\u001b[0m\u001b[1;33m\u001b[0m\u001b[1;33m\u001b[0m\u001b[0m\n\u001b[0m",
      "\u001b[1;31mIndexError\u001b[0m: index 3 is out of bounds for axis 0 with size 2"
     ]
    }
   ],
   "source": [
    "## Out of bound Exeption.\n",
    "print(x[3][2])"
   ]
  },
  {
   "cell_type": "markdown",
   "metadata": {},
   "source": [
    "#### Array Slicing."
   ]
  },
  {
   "cell_type": "markdown",
   "metadata": {},
   "source": [
    "Similar to Python lists, numpy arrays can be sliced. Since arrays may be multidimensional, you must specify a slice for each dimension of the array."
   ]
  },
  {
   "cell_type": "code",
   "execution_count": 19,
   "metadata": {},
   "outputs": [
    {
     "name": "stdout",
     "output_type": "stream",
     "text": [
      "[[ 1  2  3  4]\n",
      " [ 5  6  7  8]\n",
      " [ 9 10 11 12]]\n",
      "\n",
      "----------------\n",
      "\n",
      "[[2 3]\n",
      " [6 7]]\n"
     ]
    }
   ],
   "source": [
    "a = np.array([[1,2,3,4], [5,6,7,8], [9,10,11,12]])\n",
    "print(a)\n",
    "\n",
    "print('\\n----------------\\n')\n",
    "\n",
    "## Pulling out the subarray consisting of the first 2 rows and columns 1 and 2.\n",
    "b = a[:2, 1:3]\n",
    "\n",
    "print(b)"
   ]
  },
  {
   "cell_type": "markdown",
   "metadata": {},
   "source": [
    "<span style=\"color:#f00\">**Note:**</span> A slice of an array is a view into the same data, so modifying it will modify the original array."
   ]
  },
  {
   "cell_type": "code",
   "execution_count": 20,
   "metadata": {},
   "outputs": [
    {
     "name": "stdout",
     "output_type": "stream",
     "text": [
      "2\n",
      "\n",
      "------\n",
      "\n",
      "77\n"
     ]
    }
   ],
   "source": [
    "print(a[0, 1])\n",
    "\n",
    "print('\\n------\\n')\n",
    "\n",
    "b[0, 0] = 77\n",
    "print(a[0, 1]) "
   ]
  },
  {
   "cell_type": "markdown",
   "metadata": {},
   "source": [
    "<span style=\"color:#f00\">**Note:**</span> Mixing integer indexing with slices yields an array of lower rank, while using only slices yields an array of the same rank as the original array:\n"
   ]
  },
  {
   "cell_type": "code",
   "execution_count": 23,
   "metadata": {},
   "outputs": [
    {
     "name": "stdout",
     "output_type": "stream",
     "text": [
      "Array [5 6 7 8] Rank:  1 Shape:  (4,)\n",
      "Array [[5 6 7 8]] Rank:  2 Shape:  (1, 4)\n"
     ]
    }
   ],
   "source": [
    "row_r1 = a[1, :]\n",
    "row_r2 = a[1:2, :]\n",
    "\n",
    "print('Array', row_r1, 'Rank: ', row_r1.ndim, 'Shape: ', row_r1.shape)\n",
    "print('Array', row_r2, 'Rank: ', row_r2.ndim, 'Shape: ', row_r2.shape)"
   ]
  },
  {
   "cell_type": "markdown",
   "metadata": {},
   "source": [
    "### 1. 2) NumPy Ndarray Properties. "
   ]
  },
  {
   "cell_type": "code",
   "execution_count": 27,
   "metadata": {},
   "outputs": [
    {
     "name": "stdout",
     "output_type": "stream",
     "text": [
      "1-----------\n",
      "\n",
      "[[5 2 3]\n",
      " [4 5 6]]\n",
      "\n",
      "------------\n",
      "\n",
      "2-----------\n",
      "\n",
      "(2, 3)\n",
      "\n",
      "------------\n",
      "\n",
      "3-----------\n",
      "\n",
      "2\n",
      "\n",
      "------------\n",
      "\n",
      "4-----------\n",
      "\n",
      "int16\n",
      "\n",
      "------------\n",
      "\n",
      "5-----------\n",
      "\n",
      "6\n",
      "\n",
      "------------\n",
      "\n",
      "6-----------\n",
      "\n",
      "12\n",
      "\n",
      "------------\n",
      "\n",
      "7-----------\n",
      "\n",
      "[[5 4]\n",
      " [2 5]\n",
      " [3 6]]\n",
      "\n",
      "------------\n",
      "\n"
     ]
    }
   ],
   "source": [
    "# To show the structure of the array (the size of the array along each dimension).\n",
    "print('1-----------\\n')\n",
    "print(x)\n",
    "print('\\n------------\\n')\n",
    "\n",
    "print('2-----------\\n')\n",
    "print(x.shape)\n",
    "print('\\n------------\\n')\n",
    "\n",
    "# To show the number of dimensions (the rank of the array).\n",
    "print('3-----------\\n')\n",
    "print(x.ndim)\n",
    "print('\\n------------\\n')\n",
    "\n",
    "# To show the datatype.\n",
    "print('4-----------\\n')\n",
    "print(x.dtype)\n",
    "print('\\n------------\\n')\n",
    "\n",
    "# To show the size (the total number of elements inside the array).\n",
    "print('5-----------\\n')\n",
    "print(x.size)\n",
    "print('\\n------------\\n')\n",
    "\n",
    "# To show the size in terms of bytes.\n",
    "print('6-----------\\n')\n",
    "print(x.nbytes)\n",
    "print('\\n------------\\n')\n",
    "\n",
    "# To show the transpose of the given array.\n",
    "print('7-----------\\n')\n",
    "print(x.T)\n",
    "print('\\n------------\\n')"
   ]
  },
  {
   "cell_type": "markdown",
   "metadata": {},
   "source": [
    "### 1. 3) NumPy Ndarray Datatypes.  "
   ]
  },
  {
   "cell_type": "markdown",
   "metadata": {},
   "source": [
    "Every numpy array is a grid of elements of the same type. Numpy provides a large set of numeric datatypes that you can use to construct arrays. Numpy tries to guess a datatype when you create an array, but functions that construct arrays usually also include an optional argument to explicitly specify the datatype."
   ]
  },
  {
   "cell_type": "code",
   "execution_count": 30,
   "metadata": {},
   "outputs": [
    {
     "name": "stdout",
     "output_type": "stream",
     "text": [
      "1-----------\n",
      "\n",
      "int32\n",
      "\n",
      "------------\n",
      "\n",
      "2-----------\n",
      "\n",
      "int64\n",
      "\n",
      "------------\n",
      "\n"
     ]
    }
   ],
   "source": [
    "# Let numpy choose the datatype\n",
    "y = np.array([1, 2])\n",
    "print('1-----------\\n')\n",
    "print(y.dtype)\n",
    "print('\\n------------\\n')\n",
    "\n",
    "# Force a particular datatype.\n",
    "y = np.array([1, 2], dtype=np.int64)   \n",
    "print('2-----------\\n')\n",
    "print(y.dtype)\n",
    "print('\\n------------\\n')"
   ]
  }
 ],
 "metadata": {
  "kernelspec": {
   "display_name": "Python 3",
   "language": "python",
   "name": "python3"
  },
  "language_info": {
   "codemirror_mode": {
    "name": "ipython",
    "version": 3
   },
   "file_extension": ".py",
   "mimetype": "text/x-python",
   "name": "python",
   "nbconvert_exporter": "python",
   "pygments_lexer": "ipython3",
   "version": "3.8.1"
  }
 },
 "nbformat": 4,
 "nbformat_minor": 4
}
