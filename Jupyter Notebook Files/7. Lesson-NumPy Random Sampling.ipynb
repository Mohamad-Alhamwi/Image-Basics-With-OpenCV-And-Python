{
 "cells": [
  {
   "cell_type": "markdown",
   "metadata": {},
   "source": [
    "### 4) Random Sampling."
   ]
  },
  {
   "cell_type": "code",
   "execution_count": 1,
   "metadata": {},
   "outputs": [],
   "source": [
    "import numpy as np"
   ]
  },
  {
   "cell_type": "markdown",
   "metadata": {},
   "source": [
    "1) **random.rand().**"
   ]
  },
  {
   "cell_type": "markdown",
   "metadata": {},
   "source": [
    "Random values in a given shape."
   ]
  },
  {
   "cell_type": "code",
   "execution_count": 2,
   "metadata": {},
   "outputs": [
    {
     "name": "stdout",
     "output_type": "stream",
     "text": [
      "[[0.51236253 0.31488128 0.6415114 ]\n",
      " [0.11949643 0.98482424 0.10577379]\n",
      " [0.16879585 0.34979628 0.01172163]]\n",
      "\n",
      "------------------\n",
      "\n"
     ]
    }
   ],
   "source": [
    "# Two dimensional array.\n",
    "x = np.random.rand(3, 3)\n",
    "print(x)\n",
    "print('\\n------------------\\n')"
   ]
  },
  {
   "cell_type": "code",
   "execution_count": 3,
   "metadata": {},
   "outputs": [
    {
     "name": "stdout",
     "output_type": "stream",
     "text": [
      "[[[[[0.21052304 0.70313788]\n",
      "    [0.12456922 0.96452841]]\n",
      "\n",
      "   [[0.68670872 0.13202274]\n",
      "    [0.35194392 0.42383241]]]\n",
      "\n",
      "\n",
      "  [[[0.94158843 0.43018388]\n",
      "    [0.51051372 0.56593363]]\n",
      "\n",
      "   [[0.38668055 0.27764663]\n",
      "    [0.53306146 0.03161565]]]]\n",
      "\n",
      "\n",
      "\n",
      " [[[[0.05547027 0.71362719]\n",
      "    [0.4107311  0.6013102 ]]\n",
      "\n",
      "   [[0.88145971 0.38465798]\n",
      "    [0.79174714 0.35844402]]]\n",
      "\n",
      "\n",
      "  [[[0.27786631 0.15293871]\n",
      "    [0.99879244 0.45952771]]\n",
      "\n",
      "   [[0.88242468 0.65855814]\n",
      "    [0.06931173 0.53698152]]]]]\n",
      "\n",
      "------------------\n",
      "\n"
     ]
    }
   ],
   "source": [
    "# Five dimensional array.\n",
    "x = np.random.rand(2, 2, 2, 2, 2)\n",
    "print(x)\n",
    "print('\\n------------------\\n')"
   ]
  },
  {
   "cell_type": "markdown",
   "metadata": {},
   "source": [
    "2) **random.randint().**"
   ]
  },
  {
   "cell_type": "markdown",
   "metadata": {},
   "source": [
    "Returns random integers from low (inclusive) to high (exclusive)."
   ]
  },
  {
   "cell_type": "code",
   "execution_count": 4,
   "metadata": {},
   "outputs": [
    {
     "name": "stdout",
     "output_type": "stream",
     "text": [
      "[1 8 6 0 5 1 2 2 3 7]\n",
      "\n",
      "------------------\n",
      "\n"
     ]
    }
   ],
   "source": [
    "x = np.random.randint(low = 0, high = 9, size = 10)\n",
    "print(x)\n",
    "print('\\n------------------\\n')"
   ]
  }
 ],
 "metadata": {
  "kernelspec": {
   "display_name": "Python 3",
   "language": "python",
   "name": "python3"
  },
  "language_info": {
   "codemirror_mode": {
    "name": "ipython",
    "version": 3
   },
   "file_extension": ".py",
   "mimetype": "text/x-python",
   "name": "python",
   "nbconvert_exporter": "python",
   "pygments_lexer": "ipython3",
   "version": "3.8.1"
  }
 },
 "nbformat": 4,
 "nbformat_minor": 4
}
